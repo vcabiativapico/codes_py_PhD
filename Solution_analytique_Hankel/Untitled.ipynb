{
 "cells": [
  {
   "cell_type": "markdown",
   "id": "75cbf5ae",
   "metadata": {},
   "source": [
    "# Hello\n",
    "\n",
    "sdffsd  sdfs dfs *fghfg* **fghfghfgh**\n",
    "\n",
    "- rtyrtyt\n",
    "- rtyrty\n",
    "\n",
    "fghfgh fghfgh\n",
    "$12312312$\n",
    "\n",
    "$$ 2131+567567$$"
   ]
  }
 ],
 "metadata": {
  "kernelspec": {
   "display_name": "Python 3 (ipykernel)",
   "language": "python",
   "name": "python3"
  },
  "language_info": {
   "codemirror_mode": {
    "name": "ipython",
    "version": 3
   },
   "file_extension": ".py",
   "mimetype": "text/x-python",
   "name": "python",
   "nbconvert_exporter": "python",
   "pygments_lexer": "ipython3",
   "version": "3.9.13"
  }
 },
 "nbformat": 4,
 "nbformat_minor": 5
}
